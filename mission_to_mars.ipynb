{
 "cells": [
  {
   "cell_type": "code",
   "execution_count": null,
   "metadata": {},
   "outputs": [],
   "source": [
    "import requests\n",
    "import pandas as pd\n",
    "from splinter import Browser\n",
    "from bs4 import BeautifulSoup as bs\n",
    "from webdriver_manager.chrome import ChromeDriverManager"
   ]
  },
  {
   "cell_type": "code",
   "execution_count": null,
   "metadata": {
    "scrolled": false
   },
   "outputs": [],
   "source": [
    "# Setup splinter\n",
    "\n",
    "executable_path = {'executable_path': ChromeDriverManager().install()}\n",
    "browser = Browser('chrome', **executable_path, headless=False)"
   ]
  },
  {
   "cell_type": "markdown",
   "metadata": {},
   "source": [
    "## NASA MARS NEWS"
   ]
  },
  {
   "cell_type": "code",
   "execution_count": null,
   "metadata": {},
   "outputs": [],
   "source": [
    "# URL to visit\n",
    "url = 'https://redplanetscience.com/'\n",
    "browser.visit(url)"
   ]
  },
  {
   "cell_type": "code",
   "execution_count": null,
   "metadata": {},
   "outputs": [],
   "source": [
    "# Scrape the latest News Title & Paragraph Text \n",
    "html = browser.html\n",
    "soup = bs(html, 'html.parser')"
   ]
  },
  {
   "cell_type": "code",
   "execution_count": null,
   "metadata": {},
   "outputs": [],
   "source": [
    "# Find news_title and news_p\n",
    "\n",
    "news_title = soup.find('div', class_='content_title').text\n",
    "\n",
    "news_p = soup.find('div', class_='article_teaser_body').text\n",
    "\n",
    "print(f\"Title: {news_title}\")\n",
    "print(f\"Article: {news_p}\")"
   ]
  },
  {
   "cell_type": "markdown",
   "metadata": {},
   "source": [
    "## JPL Mars Space Image"
   ]
  },
  {
   "cell_type": "code",
   "execution_count": null,
   "metadata": {},
   "outputs": [],
   "source": [
    "# Visit new site to find image jpg. for feature image\n",
    "url = 'https://spaceimages-mars.com'\n",
    "browser.visit(url)"
   ]
  },
  {
   "cell_type": "code",
   "execution_count": null,
   "metadata": {},
   "outputs": [],
   "source": [
    "# Use splint to click on FULL IMAGE button\n",
    "browser.links.find_by_partial_text('FULL IMAGE').click()"
   ]
  },
  {
   "cell_type": "code",
   "execution_count": null,
   "metadata": {},
   "outputs": [],
   "source": [
    "# Scrape html\n",
    "html = browser.html\n",
    "soup = bs(html, 'html.parser')"
   ]
  },
  {
   "cell_type": "code",
   "execution_count": null,
   "metadata": {},
   "outputs": [],
   "source": [
    "# Store class with fancybox-inner in results\n",
    "results = soup.find('div', class_= 'fancybox-inner')"
   ]
  },
  {
   "cell_type": "code",
   "execution_count": null,
   "metadata": {},
   "outputs": [],
   "source": [
    "# find image tag and index into img to find src\n",
    "img = results.find('img')\n",
    "link = img['src']"
   ]
  },
  {
   "cell_type": "code",
   "execution_count": null,
   "metadata": {},
   "outputs": [],
   "source": [
    "# get link to image and print it\n",
    "featured_image_url = f'https://spaceimages-mars.com/{link}'\n",
    "print(featured_image_url)"
   ]
  },
  {
   "cell_type": "markdown",
   "metadata": {},
   "source": [
    "## Mars Facts"
   ]
  },
  {
   "cell_type": "code",
   "execution_count": null,
   "metadata": {},
   "outputs": [],
   "source": [
    "# Use pandas to scrape table from url\n",
    "url = 'https://galaxyfacts-mars.com'\n",
    "\n",
    "# read in tables, and print them\n",
    "tables = pd.read_html(url)\n",
    "tables"
   ]
  },
  {
   "cell_type": "code",
   "execution_count": null,
   "metadata": {
    "scrolled": true
   },
   "outputs": [],
   "source": [
    "# Index into list to see the tables we have: Mars & Earth Comparison\n",
    "tables[0]"
   ]
  },
  {
   "cell_type": "code",
   "execution_count": null,
   "metadata": {
    "scrolled": false
   },
   "outputs": [],
   "source": [
    "# Index into second list item where we have Mars facts only (I prefer this one)\n",
    "tables[1]"
   ]
  },
  {
   "cell_type": "code",
   "execution_count": null,
   "metadata": {
    "scrolled": true
   },
   "outputs": [],
   "source": [
    "# Save desired table to Variable df \n",
    "df = tables[1]\n",
    "df"
   ]
  },
  {
   "cell_type": "code",
   "execution_count": null,
   "metadata": {},
   "outputs": [],
   "source": [
    "# Saving desired table to html and not including the header or index\n",
    "df.to_html('marsfact_table.html', header = False, index = False, classes= 'table')"
   ]
  },
  {
   "cell_type": "markdown",
   "metadata": {},
   "source": [
    "## Mars Hemispheres"
   ]
  },
  {
   "cell_type": "code",
   "execution_count": null,
   "metadata": {},
   "outputs": [],
   "source": [
    "# Visit new site to find image jpg. for Mars Hemisphere\n",
    "url = 'https://marshemispheres.com/'\n",
    "browser.visit(url)"
   ]
  },
  {
   "cell_type": "code",
   "execution_count": null,
   "metadata": {},
   "outputs": [],
   "source": [
    "# Scrape html and find all div, class descriptions\n",
    "html = browser.html\n",
    "soup = bs(html, 'html.parser')\n",
    "\n",
    "results = soup.find_all('div', class_='description')"
   ]
  },
  {
   "cell_type": "code",
   "execution_count": null,
   "metadata": {
    "scrolled": true
   },
   "outputs": [],
   "source": [
    "# Empty list to store titles\n",
    "title_list = []\n",
    "\n",
    "# Looping through results to find the titles, split, and append to list\n",
    "for result in results:\n",
    "    title_txt = result.find('h3').text\n",
    "    title = title_txt.split('Enhanced')[0]\n",
    "    title_list.append(title)"
   ]
  },
  {
   "cell_type": "code",
   "execution_count": null,
   "metadata": {
    "scrolled": true
   },
   "outputs": [],
   "source": [
    "# List that will become a list of dictionaries\n",
    "hemisphere_image_urls = []\n",
    "\n",
    "# Using enumerate to go into titles list\n",
    "for index, value in enumerate(title_list):\n",
    "       \n",
    "    # If statement to break out of loop when index is at 4 \n",
    "    if index == 4:\n",
    "        break\n",
    "      \n",
    "    # If the loop isn't ==4 then... get the value(title) to click into page\n",
    "    else:\n",
    "        url = 'https://marshemispheres.com/'\n",
    "        browser.visit(url)  \n",
    "        browser.links.find_by_partial_text(value).click()\n",
    "        \n",
    "        # Scrape html and grab download div\n",
    "        html = browser.html\n",
    "        soup = bs(html, 'html.parser')\n",
    "        results = soup.find_all('div', class_='downloads')\n",
    "\n",
    "        # Loop through the results to get image link in .jpg\n",
    "        for result in results:\n",
    "            u_list = result.find('ul')\n",
    "            l_list = u_list.find('li')\n",
    "            article = l_list.find('a')\n",
    "            link = article['href']\n",
    "            img_url = f'https://marshemispheres.com/{link}'\n",
    "\n",
    "            # Store value and img_url as a dict\n",
    "            img_dict = {\n",
    "                'title' : value,\n",
    "                'img_url' : img_url\n",
    "            }\n",
    "\n",
    "            # Append dictionary into hemisphere_image_urls list\n",
    "            hemisphere_image_urls.append(img_dict)\n",
    "            \n",
    "            # Add one to index to move on next item\n",
    "            index+=1\n",
    "\n",
    "# Print list of dictionary\n",
    "print(hemisphere_image_urls)"
   ]
  },
  {
   "cell_type": "code",
   "execution_count": null,
   "metadata": {},
   "outputs": [],
   "source": [
    "# Quit browser once scraping is complete\n",
    "browser.quit()"
   ]
  }
 ],
 "metadata": {
  "kernelspec": {
   "display_name": "Python [conda env:pythondata] *",
   "language": "python",
   "name": "conda-env-pythondata-py"
  },
  "language_info": {
   "codemirror_mode": {
    "name": "ipython",
    "version": 3
   },
   "file_extension": ".py",
   "mimetype": "text/x-python",
   "name": "python",
   "nbconvert_exporter": "python",
   "pygments_lexer": "ipython3",
   "version": "3.6.10"
  }
 },
 "nbformat": 4,
 "nbformat_minor": 4
}
